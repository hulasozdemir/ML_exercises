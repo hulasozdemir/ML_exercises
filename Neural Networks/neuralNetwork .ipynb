{
 "cells": [
  {
   "cell_type": "code",
   "execution_count": null,
   "metadata": {},
   "outputs": [],
   "source": [
    "import numpy as np\n",
    "import matplotlib.pyplot as plt"
   ]
  },
  {
   "cell_type": "code",
   "execution_count": null,
   "metadata": {},
   "outputs": [],
   "source": [
    "X = np.array([[-0.5,-0.5],[0.5,-0.5],[-0.5, 0.5],[0.5, 0.5]])\n",
    "Y = np.array([-0.5, 0.5, 0.5, -0.5])"
   ]
  },
  {
   "cell_type": "code",
   "execution_count": null,
   "metadata": {},
   "outputs": [],
   "source": [
    "def initTheta(inputLayerSize, hiddenLayerSize):\n",
    "    return np.random.rand(inputLayerSize, hiddenLayerSize)"
   ]
  },
  {
   "cell_type": "code",
   "execution_count": null,
   "metadata": {},
   "outputs": [],
   "source": [
    "def dTanh(x):\n",
    "    return (1/np.cosh(x))**2"
   ]
  },
  {
   "cell_type": "markdown",
   "metadata": {},
   "source": [
    "# Part 1"
   ]
  },
  {
   "cell_type": "code",
   "execution_count": null,
   "metadata": {},
   "outputs": [],
   "source": [
    "def neuralNet(hiddenLayerSize, alpha, lossConverge):\n",
    "    losses = []\n",
    "    outputSize = 1\n",
    "    # Initialize theta, hidden layer and output layer results\n",
    "    inputVector = np.c_[np.ones(X.shape[0]),X]\n",
    "    thetaInput  = initTheta(inputVector.shape[1],hiddenLayerSize) \n",
    "    thetaHidden = initTheta(hiddenLayerSize + 1, outputSize)\n",
    "    # alpha = 0.1\n",
    "    loss = 1\n",
    "    epoch = 0\n",
    "    while loss > lossConverge:\n",
    "        for i in np.arange(X.shape[0]):\n",
    "            # Forward propagation\n",
    "\n",
    "                hiddenVector = np.tanh(inputVector[i,:].T@thetaInput)\n",
    "                hiddenVectorBias = np.concatenate([[1],hiddenVector]) # add the bias term\n",
    "                hiddenVectorBias = hiddenVectorBias.reshape((hiddenLayerSize+1,1))\n",
    "                output = np.tanh(hiddenVectorBias.T@thetaHidden)\n",
    "            # Backward propagation\n",
    "                dtheta1 = (output - Y[i])* dTanh(output) * hiddenVectorBias\n",
    "                dtheta2 = (output - Y[i])* dTanh(output) * np.outer(dTanh(hiddenVectorBias[1:]),inputVector[i,:])\n",
    "\n",
    "                thetaHidden = thetaHidden - alpha*dtheta1\n",
    "                thetaInput = thetaInput - alpha*dtheta2.T\n",
    "\n",
    "\n",
    "        hiddenVector = np.tanh(inputVector@thetaInput)\n",
    "        hiddenVectorBias = np.c_[np.ones(X.shape[0]),hiddenVector] # add the bias term\n",
    "        outputAll = np.tanh(hiddenVectorBias@thetaHidden)\n",
    "        loss = np.sum(0.5*(outputAll.T - Y)**2)/X.shape[0]\n",
    "        epoch = epoch + 1\n",
    "        losses.append([loss,epoch,outputAll.T])\n",
    "    return losses"
   ]
  },
  {
   "cell_type": "code",
   "execution_count": null,
   "metadata": {},
   "outputs": [],
   "source": [
    "neuralNetResult2Hidden = np.asarray(neuralNet(2,0.01,0.0000001))\n",
    "neuralNetResult2Hidden[-1,2]"
   ]
  },
  {
   "cell_type": "code",
   "execution_count": null,
   "metadata": {},
   "outputs": [],
   "source": [
    "neuralNetResult4Hidden = np.asarray(neuralNet(4,0.1,0.05))\n",
    "neuralNetResult4Hidden[-1,2]"
   ]
  },
  {
   "cell_type": "code",
   "execution_count": null,
   "metadata": {},
   "outputs": [],
   "source": [
    "neuralNetResult6Hidden = np.asarray(neuralNet(6,0.1,0.05))\n",
    "neuralNetResult6Hidden[-1,2]"
   ]
  },
  {
   "cell_type": "code",
   "execution_count": null,
   "metadata": {},
   "outputs": [],
   "source": [
    "plt.plot(neuralNetResult2Hidden[:,1],neuralNetResult2Hidden[:,0],label = '2 HL Neurons');\n",
    "plt.plot(neuralNetResult4Hidden[:,1],neuralNetResult4Hidden[:,0],label = '4 HL Neurons');\n",
    "plt.plot(neuralNetResult6Hidden[:,1],neuralNetResult6Hidden[:,0],label = '6 HL Neurons');\n",
    "plt.legend();"
   ]
  },
  {
   "cell_type": "markdown",
   "metadata": {},
   "source": [
    "# Part 2"
   ]
  },
  {
   "cell_type": "code",
   "execution_count": null,
   "metadata": {},
   "outputs": [],
   "source": [
    "def neuralNetMomentum(hiddenLayerSize, alpha, lossConverge, gamma, maxEpoch):\n",
    "    losses = []\n",
    "    outputSize = 1\n",
    "    # Initialize theta, hidden layer and output layer results\n",
    "    inputVector = np.c_[np.ones(X.shape[0]),X]\n",
    "    thetaInput  = initTheta(inputVector.shape[1],hiddenLayerSize) \n",
    "    thetaHidden = initTheta(hiddenLayerSize + 1, outputSize)\n",
    "    # alpha = 0.1\n",
    "    loss = 10\n",
    "    epoch = 0\n",
    "    dtheta1Old = np.ones((hiddenLayerSize+1, 1))\n",
    "    dtheta2Old = np.ones((hiddenLayerSize, hiddenLayerSize+1))\n",
    "    while (loss > lossConverge) and epoch < maxEpoch:\n",
    "        for i in np.arange(X.shape[0]):\n",
    "            # Forward propagation\n",
    "\n",
    "                hiddenVector = np.tanh(inputVector[i,:].T@thetaInput)\n",
    "                hiddenVectorBias = np.concatenate([[1],hiddenVector]) # add the bias term\n",
    "                hiddenVectorBias = hiddenVectorBias.reshape((hiddenLayerSize+1,1))\n",
    "                output = np.tanh(hiddenVectorBias.T@thetaHidden)\n",
    "            # Backward propagation\n",
    "                dtheta1 = (output - Y[i]) * dTanh(output) * hiddenVectorBias\n",
    "                dtheta2 = (output - Y[i]) * dTanh(output) * np.outer(dTanh(hiddenVectorBias[1:]),inputVector[i,:])\n",
    "                thetaHidden = thetaHidden - gamma * alpha * dtheta1 + (1-gamma) * alpha * dtheta1Old\n",
    "                thetaInput =  thetaInput - gamma * alpha * dtheta2.T + (1-gamma) * alpha * dtheta2Old.T\n",
    "                dtheta1Old = dtheta1\n",
    "                dtheta2Old = dtheta2\n",
    "        hiddenVector = np.tanh(inputVector@thetaInput)\n",
    "        hiddenVectorBias = np.c_[np.ones(X.shape[0]),hiddenVector] # add the bias term\n",
    "        outputAll = np.tanh(hiddenVectorBias@thetaHidden)\n",
    "        loss = np.sum(0.5*(outputAll.T - Y)**2)/X.shape[0]\n",
    "        epoch = epoch + 1\n",
    "        losses.append([loss,epoch,outputAll.T])\n",
    "    return losses"
   ]
  },
  {
   "cell_type": "code",
   "execution_count": 30,
   "metadata": {
    "tags": [
     "outputPrepend",
     "outputPrepend",
     "outputPrepend",
     "outputPrepend"
    ]
   },
   "outputs": [],
   "source": [
    "result2 = np.asarray(neuralNetMomentum(2, 0.1, 0.00001, 0.9, 100000))"
   ]
  },
  {
   "cell_type": "code",
   "execution_count": 29,
   "metadata": {},
   "outputs": [
    {
     "data": {
      "text/plain": [
       "array([[-0.49480688,  0.49637639,  0.49561028, -0.49562983]])"
      ]
     },
     "execution_count": 29,
     "metadata": {},
     "output_type": "execute_result"
    }
   ],
   "source": [
    "result2[-1,2]"
   ]
  },
  {
   "cell_type": "code",
   "execution_count": null,
   "metadata": {},
   "outputs": [],
   "source": [
    "result4 = np.asarray(neuralNetMomentum(4, 0.1, 0.00001, 0.9, 10000000))"
   ]
  },
  {
   "cell_type": "code",
   "execution_count": 27,
   "metadata": {},
   "outputs": [
    {
     "data": {
      "text/plain": [
       "array([[-0.49449601,  0.49647661,  0.49570156, -0.49579327]])"
      ]
     },
     "execution_count": 27,
     "metadata": {},
     "output_type": "execute_result"
    }
   ],
   "source": [
    "result4[-1,2]"
   ]
  },
  {
   "cell_type": "code",
   "execution_count": 31,
   "metadata": {},
   "outputs": [
    {
     "data": {
      "text/plain": [
       "array([[-0.49444899,  0.49653295,  0.49574771, -0.49582023]])"
      ]
     },
     "execution_count": 31,
     "metadata": {},
     "output_type": "execute_result"
    }
   ],
   "source": [
    "result6[-1,2]"
   ]
  },
  {
   "cell_type": "code",
   "execution_count": null,
   "metadata": {},
   "outputs": [],
   "source": []
  }
 ],
 "metadata": {
  "kernelspec": {
   "display_name": "Python 3 (ipykernel)",
   "language": "python",
   "name": "python3"
  },
  "language_info": {
   "codemirror_mode": {
    "name": "ipython",
    "version": 3
   },
   "file_extension": ".py",
   "mimetype": "text/x-python",
   "name": "python",
   "nbconvert_exporter": "python",
   "pygments_lexer": "ipython3",
   "version": "3.9.7"
  }
 },
 "nbformat": 4,
 "nbformat_minor": 4
}
