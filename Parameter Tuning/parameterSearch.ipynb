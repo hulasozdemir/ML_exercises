{
 "cells": [
  {
   "cell_type": "code",
   "execution_count": 227,
   "metadata": {},
   "outputs": [],
   "source": [
    "import pandas as pd\n",
    "import numpy as np\n",
    "import matplotlib.pyplot as plt\n",
    "import os\n",
    "import random\n",
    "from sklearn.utils import shuffle\n",
    "from sklearn.model_selection import train_test_split\n",
    "from sklearn.metrics import confusion_matrix\n",
    "from sklearn.model_selection import KFold"
   ]
  },
  {
   "cell_type": "code",
   "execution_count": 188,
   "metadata": {},
   "outputs": [],
   "source": [
    "# data = np.loadtxt('spambase_csv.csv')\n",
    "data = pd.read_csv('spambase_csv.csv')\n",
    "data = shuffle(data)"
   ]
  },
  {
   "cell_type": "markdown",
   "metadata": {},
   "source": [
    "# Scale features and split data 80:20"
   ]
  },
  {
   "cell_type": "code",
   "execution_count": 197,
   "metadata": {},
   "outputs": [],
   "source": [
    "X = data.iloc[:,0:-1].values\n",
    "y = data.iloc[:,-1].values\n",
    "y = y[:, None]\n",
    "\n",
    "X_scaled = X\n",
    "X_scaled = (X_scaled - X_scaled.mean(axis=0))/X_scaled.std(axis=0)\n",
    "X_scaled = np.c_[np.ones(X_scaled.shape[0]), X_scaled]\n",
    "\n",
    "X_train, X_test, y_train, y_test = train_test_split(X_scaled, y, test_size=0.2)"
   ]
  },
  {
   "cell_type": "code",
   "execution_count": 198,
   "metadata": {},
   "outputs": [],
   "source": [
    "def logisticFunction(theta,X):\n",
    "    return 1/(1+np.exp(-X@theta))"
   ]
  },
  {
   "cell_type": "code",
   "execution_count": 199,
   "metadata": {},
   "outputs": [],
   "source": [
    "def costFunction(theta,X,y,lambdaReg):\n",
    "    epsilon = 1e-5\n",
    "    h = logisticFunction(theta,X)\n",
    "    m = y.shape[0]\n",
    "    firstTerm = -y.T@(np.log(h + epsilon))\n",
    "    secondTerm = -(1.0-y).T@np.log(1-h + epsilon)\n",
    "    result = (1/m)*((firstTerm + secondTerm) + lambdaReg*(theta.T@theta))\n",
    "    return result[0,0]"
   ]
  },
  {
   "cell_type": "code",
   "execution_count": 200,
   "metadata": {},
   "outputs": [],
   "source": [
    "def gradient(theta, X, y, alpha, lambdaReg):\n",
    "    m = y.shape[0]\n",
    "    h = logisticFunction(theta,X)\n",
    "    return alpha/m * ( np.transpose(X)@(h - y) + lambdaReg * theta)"
   ]
  },
  {
   "cell_type": "markdown",
   "metadata": {},
   "source": [
    "# Train the model"
   ]
  },
  {
   "cell_type": "code",
   "execution_count": 233,
   "metadata": {},
   "outputs": [],
   "source": [
    "def train_model(X,y,lim,alpha,lambdaReg):\n",
    "    costs = []\n",
    "    thetas = np.random.rand(X_train.shape[1])\n",
    "    # thetas = np.insert(thetas, 0, 1., axis=0)\n",
    "    thetas = thetas[:,None]\n",
    "    for n in np.arange(lim):\n",
    "        thetas = thetas - gradient(thetas,X_train,y_train,alpha, lambdaReg)\n",
    "        costs.append(costFunction(thetas,X_train,y_train, lambdaReg))\n",
    "    return thetas"
   ]
  },
  {
   "cell_type": "code",
   "execution_count": 205,
   "metadata": {},
   "outputs": [
    {
     "data": {
      "text/plain": [
       "[<matplotlib.lines.Line2D at 0x21a10f2d0c8>]"
      ]
     },
     "execution_count": 205,
     "metadata": {},
     "output_type": "execute_result"
    },
    {
     "data": {
      "image/png": "[encoded data removed]",
      "text/plain": [
       "<Figure size 432x288 with 1 Axes>"
      ]
     },
     "metadata": {
      "needs_background": "light"
     },
     "output_type": "display_data"
    }
   ],
   "source": [
    "plt.plot(np.arange(lim),costs)"
   ]
  },
  {
   "cell_type": "code",
   "execution_count": 226,
   "metadata": {},
   "outputs": [],
   "source": [
    "y_prediction = np.around(logisticFunction(thetas_final,X_test));\n",
    "CM = confusion_matrix(y_test, y_prediction)\n",
    "TN = CM[0,0]\n",
    "FP = CM[0,1]\n",
    "FN = CM[1,0]\n",
    "TP = CM[1,1]\n",
    "Precision = TP/(TP+FP)\n",
    "Recall = TP/(TP+FN)\n",
    "f1Score = 2 * (1/Precision + 1/Recall)"
   ]
  },
  {
   "cell_type": "markdown",
   "metadata": {},
   "source": [
    "# Train the model using K-fold CV"
   ]
  },
  {
   "cell_type": "code",
   "execution_count": 248,
   "metadata": {},
   "outputs": [],
   "source": [
    "lambdas = [0.0, 0.001, 0.005, 0.01, 0.015, 0.02, 0.04, 0.08, 0.15, 0.5, 1.0, 2.0, 4.0, 8.0]"
   ]
  },
  {
   "cell_type": "code",
   "execution_count": 254,
   "metadata": {},
   "outputs": [
    {
     "name": "stdout",
     "output_type": "stream",
     "text": [
      "6.598091057295932\n",
      "6.4706989573919484\n",
      "6.454611824030256\n",
      "6.614925542601332\n",
      "6.415721494371589\n",
      "6.358258440534225\n",
      "6.446026282538294\n",
      "6.473074191540292\n",
      "6.3913108345253615\n",
      "6.5353303940176515\n",
      "6.380082711866641\n",
      "6.248206354664835\n",
      "6.379652088773975\n",
      "6.3878441643152115\n"
     ]
    }
   ],
   "source": [
    "f1Scores = []\n",
    "for lambdaReg in lambdas:\n",
    "    f1ScoreTotal = 0\n",
    "    nSplits = 5\n",
    "    kf = KFold(n_splits = nSplits)\n",
    "    kFolded = kf.get_n_splits(X_train)\n",
    "    limitConv = 1000\n",
    "    alpha = 0.001\n",
    "    for train_index, test_index in kf.split(X_scaled):\n",
    "        X_train, X_test, y_train, y_test = X_scaled[train_index], X_scaled[test_index], y[train_index], y[test_index]\n",
    "        thetas =  train_model(X_train, y_train, limitConv, alpha, lambdaReg)\n",
    "        y_prediction = np.around(logisticFunction(thetas,X_test));\n",
    "        CM = confusion_matrix(y_test, y_prediction)\n",
    "        TN = CM[0,0]\n",
    "        FP = CM[0,1]\n",
    "        FN = CM[1,0]\n",
    "        TP = CM[1,1]\n",
    "        Precision = TP/(TP + FP)\n",
    "        Recall = TP/(TP + FN)\n",
    "        f1ScoreTotal = f1ScoreTotal +  2 * (1/Precision + 1/Recall)\n",
    "    f1ScoreAverage = f1ScoreTotal/nSplits\n",
    "    print(f1ScoreAverage)\n",
    "    f1Scores.append(f1ScoreAverage)"
   ]
  },
  {
   "cell_type": "code",
   "execution_count": 258,
   "metadata": {},
   "outputs": [
    {
     "name": "stdout",
     "output_type": "stream",
     "text": [
      "[[0.00000000e+00 6.59809106e+00]\n",
      " [1.00000000e-03 6.47069896e+00]\n",
      " [5.00000000e-03 6.45461182e+00]\n",
      " [1.00000000e-02 6.61492554e+00]\n",
      " [1.50000000e-02 6.41572149e+00]\n",
      " [2.00000000e-02 6.35825844e+00]\n",
      " [4.00000000e-02 6.44602628e+00]\n",
      " [8.00000000e-02 6.47307419e+00]\n",
      " [1.50000000e-01 6.39131083e+00]\n",
      " [5.00000000e-01 6.53533039e+00]\n",
      " [1.00000000e+00 6.38008271e+00]\n",
      " [2.00000000e+00 6.24820635e+00]\n",
      " [4.00000000e+00 6.37965209e+00]\n",
      " [8.00000000e+00 6.38784416e+00]]\n"
     ]
    }
   ],
   "source": [
    "print(np.transpose([lambdas,f1Scores]))"
   ]
  },
  {
   "cell_type": "markdown",
   "metadata": {},
   "source": [
    "# I got the highest score with $\\lambda = 0.01$"
   ]
  },
  {
   "cell_type": "code",
   "execution_count": null,
   "metadata": {},
   "outputs": [],
   "source": []
  }
 ],
 "metadata": {
  "kernelspec": {
   "display_name": "Python 3 (ipykernel)",
   "language": "python",
   "name": "python3"
  },
  "language_info": {
   "codemirror_mode": {
    "name": "ipython",
    "version": 3
   },
   "file_extension": ".py",
   "mimetype": "text/x-python",
   "name": "python",
   "nbconvert_exporter": "python",
   "pygments_lexer": "ipython3",
   "version": "3.9.7"
  }
 },
 "nbformat": 4,
 "nbformat_minor": 4
}
